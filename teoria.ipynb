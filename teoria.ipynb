{
 "cells": [
  {
   "cell_type": "markdown",
   "metadata": {},
   "source": [
    "# `Newton Raphson Modificado`\n",
    "## Parâmetros utilizados no Método:\n",
    "1. Derivada da Função\n",
    "- `Q`: Valor atual de `Q`\n",
    "- `C`: Constante utilizada na função `f`\n",
    "2. Função principal\n",
    "- `C`: Constante utilizada na função `f`\n",
    "- `x0`: Primeiro chute inicial\n",
    "- `err1`: Tolerância para o erro absoluto da função\n",
    "- `max_iter`: Número máximo de iterações permitidas\n",
    "## Passo a Passo do Algoritmo:\n",
    "1. Define o chute inicial `x0` como o valor atual `x1`\n",
    "    - Verifica se o chute inicial `x0` já está suficientemente perto de zero\n",
    "    - Se já estiver perto de zero retorna o valor\n",
    "2. Loop para realizar o método de Newton modificado até o número máximo de iterações\n",
    "    -  Calcula o próximo valor de `Q` usando o método de Newton\n",
    "    -  Verifica se a solução está dentro do erro permitido ou se a mudança é pequena o suficiente\n",
    "    -  Se a solução for aceitável, retorna o valor\n",
    "    -  Atualiza o valor de `x1` para o próximo loop\n",
    "3. Se o método não convergir dentro do número máximo de iterações, retorna o último valor calculado"
   ]
  },
  {
   "cell_type": "markdown",
   "metadata": {},
   "source": [
    "# `Método da Secante`\n",
    "## Parâmetros Utilizados no Método: \n",
    "1. Função principal\n",
    "- `C`: Constante utilizada na função `f`\n",
    "- ``x0``: Primeiro chute inicial\n",
    "- ``x1``: Segundo chute inicial\n",
    "- `err1`: Tolerância para o erro absoluto da função\n",
    "- `err2`: Tolerância para a diferença entre chutes consecutivos\n",
    "- `max_iter`: Número máximo de iterações permitidas\n",
    "\n",
    "2. Segunda função (analise sinais)\n",
    "- `C`: Constante utilizada na função `f`\n",
    "- `a`: Primeiro chute inicial\n",
    "- `int_max`: Número máximo de iterações para tentar encontrar um intervalo\n",
    "## Passo a Passo do Algoritmo:\n",
    "1. Contador para as iterações\n",
    "2. Verificamos se o primeiro chute ``x0`` está suficientemente próximo da raiz, se sim retorna ``x0``\n",
    "3. Verificamos se o segundo chute `x1` está suficientemente próximo da raiz\n",
    "    - Ou se a diferença de `x1` e `x0` é menor que o erro permitido, se sim insere o resultado e retorna `x1`\n",
    "4. Loop para executar o método da secante até o `max itter`\n",
    "    - Calculamos o próximo valor de `x` usando a fórmula da secante\n",
    "    - Verificamos se o novo valor `x2` atende ao critério de convergência\n",
    "    - Se `f(x2)` está menor que o erro permitido ou a diferença entre `x2` e `x1` é menor que o erro permitido, se sim retorna `x2`\n",
    "    - Atualizamos `x0` e `x1` para a próxima iteração\n",
    "    - Incrementa o contador\n",
    "5. Se o método não convergir dentro do número máximo de iterações, retorna o último valor calculado \n",
    "6. Função para análise de sinais, utilizada para encontrar intervalos onde a função muda de sinal\n",
    "    - Define `b` como um valor próximo à `a`\n",
    "    - Enquanto a função `f(a)` e `f(b)` tiverem o mesmo sinal, verifica se o número máximo de iterações foi alcançado\n",
    "    - Calcula um novo ponto `d` para tentar encontrar uma mudança de sinal\n",
    "    - Atualiza os pontos `a` e `b` com base no sinal da função em `d`\n",
    "    - Incrementa o contador de iterações\n",
    "    - Retorna o ponto `b` onde a mudança de sinal foi detectada"
   ]
  },
  {
   "cell_type": "markdown",
   "metadata": {},
   "source": [
    "# `Método do Ponto Fixo`\n",
    "## Parâmetros Utilizados no Método:\n",
    "1. Função Definida para o Método:\n",
    "- `Q`: Valor Atual\n",
    "- `C`: Constante utilizada na função `f`\n",
    "2. Função Principal: \n",
    "- `C`: Constante utilizada na função `f` e sua derivada `df`\n",
    "- `x0`: Chute inicial para o valor de `Q`\n",
    "- `err`: Tolerância para a convergência\n",
    "- `max_iter`: Número máximo de iterações permitidas\n",
    "## Passo a Passo do Algoritmo:\n",
    "1. Definimos a função `phi(Q)`\n",
    "    - Limitamos o domínio para evitar `overflow`\n",
    "    - Garantimos a positividade do valor\n",
    "    - Retorna NaN em caso de `overflow`\n",
    "2. Verificamos se o valor inicial `x0` já está próximo do zero (dentro do erro tolerável)\n",
    "3. Iniciamos o loop para as iterações do método do ponto fixo\n",
    "    - Calculamos o próximo valor de `x` usando a função `phi`\n",
    "    - Verificamos se o novo valor de `x` está suficientemente próximo do zero (dentro do erro tolerável)\n",
    "4. Retornamos os valores finais"
   ]
  }
 ],
 "metadata": {
  "language_info": {
   "name": "python"
  }
 },
 "nbformat": 4,
 "nbformat_minor": 2
}
