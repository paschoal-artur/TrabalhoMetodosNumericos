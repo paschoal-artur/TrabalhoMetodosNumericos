{
 "cells": [
  {
   "cell_type": "code",
   "execution_count": 8,
   "metadata": {},
   "outputs": [],
   "source": [
    "import pandas as pd\n",
    "import math"
   ]
  },
  {
   "cell_type": "code",
   "execution_count": 32,
   "metadata": {},
   "outputs": [],
   "source": [
    "##Código para achar raízes de funções usando o método de newton raphson modificado\n",
    "def g(Q, C):\n",
    "    return C * math.exp(Q) - 4*math.pow(Q, 2)\n",
    "\n",
    "def derivg(Q, C):\n",
    "    return C* math.exp(Q) - 8 * Q\n",
    "\n",
    "def newton_modificado(C, q0, tol= 1e-4, max_iter = 100):\n",
    "    #Calculamos a derivada\n",
    "    df_q0 = derivg(C, q0)\n",
    "    contador = 0\n",
    "    q = q0\n",
    "\n",
    "    while contador < max_iter:\n",
    "        if df_q0 == 0:\n",
    "            return print(\"Derivada igual a zero\")\n",
    "        fq = g(q, C)\n",
    "\n",
    "        if abs(fq) < tol:\n",
    "            break\n",
    "        #Atualizando o x usando a derivada fixa\n",
    "        q = q - (fq / df_q0)  \n",
    "        contador += 1\n",
    "\n",
    "    return q\n",
    "\n"
   ]
  },
  {
   "cell_type": "code",
   "execution_count": 33,
   "metadata": {},
   "outputs": [
    {
     "ename": "ValueError",
     "evalue": "DataFrame constructor not properly called!",
     "output_type": "error",
     "traceback": [
      "\u001b[0;31m---------------------------------------------------------------------------\u001b[0m",
      "\u001b[0;31mValueError\u001b[0m                                Traceback (most recent call last)",
      "\u001b[0;32m/tmp/ipykernel_59859/681039215.py\u001b[0m in \u001b[0;36m?\u001b[0;34m()\u001b[0m\n\u001b[1;32m      1\u001b[0m \u001b[0mC\u001b[0m \u001b[0;34m=\u001b[0m \u001b[0;36m1\u001b[0m\u001b[0;34m\u001b[0m\u001b[0;34m\u001b[0m\u001b[0m\n\u001b[1;32m      2\u001b[0m \u001b[0mq0\u001b[0m \u001b[0;34m=\u001b[0m \u001b[0;36m0.5\u001b[0m\u001b[0;34m\u001b[0m\u001b[0;34m\u001b[0m\u001b[0m\n\u001b[1;32m      3\u001b[0m \u001b[0mresultado\u001b[0m \u001b[0;34m=\u001b[0m \u001b[0mnewton_modificado\u001b[0m\u001b[0;34m(\u001b[0m\u001b[0mC\u001b[0m\u001b[0;34m,\u001b[0m \u001b[0mq0\u001b[0m\u001b[0;34m)\u001b[0m\u001b[0;34m\u001b[0m\u001b[0;34m\u001b[0m\u001b[0m\n\u001b[0;32m----> 4\u001b[0;31m \u001b[0mresult\u001b[0m \u001b[0;34m=\u001b[0m \u001b[0mpd\u001b[0m\u001b[0;34m.\u001b[0m\u001b[0mDataFrame\u001b[0m\u001b[0;34m(\u001b[0m\u001b[0mresultado\u001b[0m\u001b[0;34m)\u001b[0m\u001b[0;34m\u001b[0m\u001b[0;34m\u001b[0m\u001b[0m\n\u001b[0m\u001b[1;32m      5\u001b[0m \u001b[0mdisplay\u001b[0m\u001b[0;34m(\u001b[0m\u001b[0mresult\u001b[0m\u001b[0;34m)\u001b[0m\u001b[0;34m\u001b[0m\u001b[0;34m\u001b[0m\u001b[0m\n",
      "\u001b[0;32m~/.local/lib/python3.10/site-packages/pandas/core/frame.py\u001b[0m in \u001b[0;36m?\u001b[0;34m(self, data, index, columns, dtype, copy)\u001b[0m\n\u001b[1;32m    871\u001b[0m                 )\n\u001b[1;32m    872\u001b[0m         \u001b[0;31m# For data is scalar\u001b[0m\u001b[0;34m\u001b[0m\u001b[0;34m\u001b[0m\u001b[0m\n\u001b[1;32m    873\u001b[0m         \u001b[0;32melse\u001b[0m\u001b[0;34m:\u001b[0m\u001b[0;34m\u001b[0m\u001b[0;34m\u001b[0m\u001b[0m\n\u001b[1;32m    874\u001b[0m             \u001b[0;32mif\u001b[0m \u001b[0mindex\u001b[0m \u001b[0;32mis\u001b[0m \u001b[0;32mNone\u001b[0m \u001b[0;32mor\u001b[0m \u001b[0mcolumns\u001b[0m \u001b[0;32mis\u001b[0m \u001b[0;32mNone\u001b[0m\u001b[0;34m:\u001b[0m\u001b[0;34m\u001b[0m\u001b[0;34m\u001b[0m\u001b[0m\n\u001b[0;32m--> 875\u001b[0;31m                 \u001b[0;32mraise\u001b[0m \u001b[0mValueError\u001b[0m\u001b[0;34m(\u001b[0m\u001b[0;34m\"DataFrame constructor not properly called!\"\u001b[0m\u001b[0;34m)\u001b[0m\u001b[0;34m\u001b[0m\u001b[0;34m\u001b[0m\u001b[0m\n\u001b[0m\u001b[1;32m    876\u001b[0m \u001b[0;34m\u001b[0m\u001b[0m\n\u001b[1;32m    877\u001b[0m             \u001b[0mindex\u001b[0m \u001b[0;34m=\u001b[0m \u001b[0mensure_index\u001b[0m\u001b[0;34m(\u001b[0m\u001b[0mindex\u001b[0m\u001b[0;34m)\u001b[0m\u001b[0;34m\u001b[0m\u001b[0;34m\u001b[0m\u001b[0m\n\u001b[1;32m    878\u001b[0m             \u001b[0mcolumns\u001b[0m \u001b[0;34m=\u001b[0m \u001b[0mensure_index\u001b[0m\u001b[0;34m(\u001b[0m\u001b[0mcolumns\u001b[0m\u001b[0;34m)\u001b[0m\u001b[0;34m\u001b[0m\u001b[0;34m\u001b[0m\u001b[0m\n",
      "\u001b[0;31mValueError\u001b[0m: DataFrame constructor not properly called!"
     ]
    }
   ],
   "source": [
    "C = 1\n",
    "q0 = 0.5\n",
    "resultado = newton_modificado(C, q0)\n",
    "result = pd.DataFrame(resultado)\n",
    "display(result)"
   ]
  },
  {
   "cell_type": "code",
   "execution_count": 36,
   "metadata": {},
   "outputs": [
    {
     "data": {
      "text/html": [
       "<div>\n",
       "<style scoped>\n",
       "    .dataframe tbody tr th:only-of-type {\n",
       "        vertical-align: middle;\n",
       "    }\n",
       "\n",
       "    .dataframe tbody tr th {\n",
       "        vertical-align: top;\n",
       "    }\n",
       "\n",
       "    .dataframe thead th {\n",
       "        text-align: right;\n",
       "    }\n",
       "</style>\n",
       "<table border=\"1\" class=\"dataframe\">\n",
       "  <thead>\n",
       "    <tr style=\"text-align: right;\">\n",
       "      <th></th>\n",
       "      <th>Iteração</th>\n",
       "      <th>Q</th>\n",
       "      <th>f(Q)</th>\n",
       "      <th>f'(Q)</th>\n",
       "    </tr>\n",
       "  </thead>\n",
       "  <tbody>\n",
       "    <tr>\n",
       "      <th>0</th>\n",
       "      <td>1</td>\n",
       "      <td>0.5</td>\n",
       "      <td>0.648721</td>\n",
       "      <td>-2.351279</td>\n",
       "    </tr>\n",
       "  </tbody>\n",
       "</table>\n",
       "</div>"
      ],
      "text/plain": [
       "   Iteração    Q      f(Q)     f'(Q)\n",
       "0         1  0.5  0.648721 -2.351279"
      ]
     },
     "metadata": {},
     "output_type": "display_data"
    }
   ],
   "source": [
    "import numpy as np\n",
    "import pandas as pd\n",
    "\n",
    "# Definindo a função f(Q) e sua derivada f'(Q)\n",
    "def f(Q, C):\n",
    "    return C * np.exp(Q) - 4 * Q**2\n",
    "\n",
    "def derivative_f(Q, C):\n",
    "    return C * np.exp(Q) - 8 * Q\n",
    "\n",
    "# Implementando o método de Newton modificado com armazenamento de iterações\n",
    "def modified_newton(C, x0, tolerance=1e-6, max_iterations=100):\n",
    "    # Calculando a derivada no ponto inicial\n",
    "    df_x0 = derivative_f(x0, C)\n",
    "    \n",
    "    # Garantindo que a derivada não seja zero\n",
    "    if df_x0 == 0:\n",
    "        raise ValueError(\"A derivada f'(x0) é zero, escolha um x0 diferente.\")\n",
    "\n",
    "    # Lista para armazenar as iterações\n",
    "    iterations_data = []\n",
    "    \n",
    "    # Iteração do método de Newton modificado\n",
    "    Q = x0\n",
    "    for iteration in range(max_iterations):\n",
    "        # Calculando a derivada atual\n",
    "        df_Q = derivative_f(Q, C)\n",
    "        \n",
    "        # Armazenando os dados da iteração atual\n",
    "        iterations_data.append({'Iteração': iteration + 1, 'Q': Q, 'f(Q)': f(Q, C), 'f\\'(Q)': df_Q})\n",
    "        \n",
    "        # Calculando o próximo valor de Q usando o método de Newton modificado\n",
    "        Q_new = Q - f(Q, C) / df_x0\n",
    "        \n",
    "        # Verificando se a diferença entre as iterações é menor que a tolerância\n",
    "        if abs(Q_new - Q) < tolerance:\n",
    "            break\n",
    "        \n",
    "        # Atualizando o valor de Q\n",
    "        Q = Q_new\n",
    "\n",
    "        # Garantindo que Q não ultrapasse 0,7 toneladas\n",
    "        if Q > 0.7:\n",
    "            Q = 0.7\n",
    "            break\n",
    "\n",
    "    # Convertendo os dados das iterações em um DataFrame\n",
    "    iterations_df = pd.DataFrame(iterations_data)\n",
    "    \n",
    "    return iterations_df\n",
    "\n",
    "# Parâmetros do problema\n",
    "C = 1.0  # Custo dos ingredientes em bilhões\n",
    "x0 = 0.5  # Aproximação inicial\n",
    "\n",
    "# Executando o método\n",
    "iterations_df = modified_newton(C, x0)\n",
    "display(iterations_df)\n"
   ]
  },
  {
   "cell_type": "code",
   "execution_count": 31,
   "metadata": {},
   "outputs": [
    {
     "name": "stdout",
     "output_type": "stream",
     "text": [
      "(0.7, 1)\n"
     ]
    }
   ],
   "source": []
  }
 ],
 "metadata": {
  "kernelspec": {
   "display_name": "Python 3",
   "language": "python",
   "name": "python3"
  },
  "language_info": {
   "codemirror_mode": {
    "name": "ipython",
    "version": 3
   },
   "file_extension": ".py",
   "mimetype": "text/x-python",
   "name": "python",
   "nbconvert_exporter": "python",
   "pygments_lexer": "ipython3",
   "version": "3.10.12"
  }
 },
 "nbformat": 4,
 "nbformat_minor": 2
}
